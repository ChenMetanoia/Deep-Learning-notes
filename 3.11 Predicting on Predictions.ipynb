{
 "cells": [
  {
   "cell_type": "markdown",
   "metadata": {},
   "source": [
    "### An Empty Network With Multiple Inputs & Outputs"
   ]
  },
  {
   "cell_type": "code",
   "execution_count": 2,
   "metadata": {},
   "outputs": [
    {
     "name": "stdout",
     "output_type": "stream",
     "text": [
      "[0.214, 0.145, 0.506]\n"
     ]
    }
   ],
   "source": [
    "def neural_network(input, weights):\n",
    "    hid = vect_mat(input, weights[0])\n",
    "    pred = vect_mat(hid, weights[1])\n",
    "    return pred\n",
    "\n",
    "\n",
    "def vect_mat(vect, matrix):\n",
    "    assert(len(vect) == len(matrix))\n",
    "    output = [0] * len(matrix)\n",
    "    for i in range(len(vect)):\n",
    "        output[i] = round(w_sum(vect,matrix[i]), 3)\n",
    "    return output \n",
    "\n",
    "def w_sum(a,b):\n",
    "    output = 0\n",
    "    assert(len(a) == len(b))\n",
    "    for i in range(len(a)):\n",
    "        output += a[i] * b[i]\n",
    "    return output\n",
    "\n",
    "# toes %win #fans\n",
    "ih_wgt = [[0.1, 0.2, -0.1],\n",
    "          [-0.1, 0.1, 0.9],\n",
    "          [0.1, 0.4, 0.1]]\n",
    "\n",
    "hp_wgt = [[0.3, 1.1, -0.3], #hurt?\n",
    "          [0.1, 0.2, 0.0],  #win?\n",
    "          [0.0, 1.3, 0.1]]  #sad?\n",
    "\n",
    "weights = [ih_wgt, hp_wgt]\n",
    "\n",
    "toes = [8.5, 9.5, 9.9, 9.0]\n",
    "wlrec = [0.65, 0.8, 0.8, 0.9]\n",
    "nfans = [1.2, 1.3, 0.5, 1.0]\n",
    "\n",
    "input = [toes[0], wlrec[0], nfans[0]]\n",
    "pred = neural_network(input, weights)\n",
    "print(pred)"
   ]
  },
  {
   "cell_type": "markdown",
   "metadata": {},
   "source": [
    "### Numpy Version"
   ]
  },
  {
   "cell_type": "code",
   "execution_count": 4,
   "metadata": {},
   "outputs": [
    {
     "name": "stdout",
     "output_type": "stream",
     "text": [
      "[0.2135 0.145  0.5065]\n",
      "[5.525 7.6   7.92  8.1  ]\n"
     ]
    }
   ],
   "source": [
    "import numpy as np\n",
    "\n",
    "\n",
    "# toes %win #fans Input to hidden layer\n",
    "ih_wgt = np.array([[0.1, 0.2, -0.1],\n",
    "          [-0.1, 0.1, 0.9],\n",
    "          [0.1, 0.4, 0.1]]).T\n",
    "\n",
    "# hidden layer to predictions\n",
    "hp_wgt = np.array([[0.3, 1.1, -0.3], #hurt?\n",
    "          [0.1, 0.2, 0.0],  #win?\n",
    "          [0.0, 1.3, 0.1]]).T  #sad?\n",
    "\n",
    "weights = [ih_wgt, hp_wgt]\n",
    "def neural_network(input, weights):\n",
    "    hid = input.dot(weights[0])\n",
    "    pred = hid.dot(weights[1])\n",
    "    return pred\n",
    "\n",
    "\n",
    "toes = np.array([8.5, 9.5, 9.9, 9.0])\n",
    "wlrec = np.array([0.65, 0.8, 0.8, 0.9])\n",
    "nfans = np.array([1.2, 1.3, 0.5, 1.0])\n",
    "\n",
    "input = np.array([toes[0], wlrec[0], nfans[0]])\n",
    "pred = neural_network(input, weights)\n",
    "print(pred)\n"
   ]
  },
  {
   "cell_type": "code",
   "execution_count": null,
   "metadata": {},
   "outputs": [],
   "source": []
  }
 ],
 "metadata": {
  "kernelspec": {
   "display_name": "Python 3",
   "language": "python",
   "name": "python3"
  },
  "language_info": {
   "codemirror_mode": {
    "name": "ipython",
    "version": 3
   },
   "file_extension": ".py",
   "mimetype": "text/x-python",
   "name": "python",
   "nbconvert_exporter": "python",
   "pygments_lexer": "ipython3",
   "version": "3.6.7"
  }
 },
 "nbformat": 4,
 "nbformat_minor": 2
}
