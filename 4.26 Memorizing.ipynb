{
 "cells": [
  {
   "cell_type": "code",
   "execution_count": 2,
   "metadata": {},
   "outputs": [
    {
     "name": "stdout",
     "output_type": "stream",
     "text": [
      "Error:0.03999999999999998 Prediction:1.0 Weight:0.46\n",
      "Error:0.0144 Prediction:0.92 Weight:0.436\n",
      "Error:0.005183999999999993 Prediction:0.872 Weight:0.42160000000000003\n",
      "Error:0.0018662400000000014 Prediction:0.8432000000000001 Weight:0.41296000000000005\n",
      "Error:0.0006718464000000028 Prediction:0.8259200000000001 Weight:0.407776\n",
      "Error:0.00024186470400000033 Prediction:0.815552 Weight:0.4046656\n",
      "Error:8.70712934399997e-05 Prediction:0.8093312 Weight:0.40279936\n",
      "Error:3.134566563839939e-05 Prediction:0.80559872 Weight:0.401679616\n",
      "Error:1.1284439629823931e-05 Prediction:0.803359232 Weight:0.4010077696\n",
      "Error:4.062398266736526e-06 Prediction:0.8020155392 Weight:0.40060466176000004\n",
      "Error:1.4624633760252567e-06 Prediction:0.8012093235200001 Weight:0.40036279705600003\n",
      "Error:5.264868153690924e-07 Prediction:0.8007255941120001 Weight:0.40021767823360005\n",
      "Error:1.8953525353291194e-07 Prediction:0.8004353564672001 Weight:0.40013060694016006\n",
      "Error:6.82326912718715e-08 Prediction:0.8002612138803201 Weight:0.40007836416409603\n",
      "Error:2.456376885786678e-08 Prediction:0.8001567283281921 Weight:0.40004701849845764\n",
      "Error:8.842956788836216e-09 Prediction:0.8000940369969153 Weight:0.4000282110990746\n",
      "Error:3.1834644439835434e-09 Prediction:0.8000564221981492 Weight:0.40001692665944477\n",
      "Error:1.1460471998340758e-09 Prediction:0.8000338533188895 Weight:0.40001015599566686\n",
      "Error:4.125769919393652e-10 Prediction:0.8000203119913337 Weight:0.40000609359740014\n",
      "Error:1.485277170987127e-10 Prediction:0.8000121871948003 Weight:0.4000036561584401\n"
     ]
    }
   ],
   "source": [
    "weight = 0.5\n",
    "goal_pred = 0.8\n",
    "input = 2\n",
    "alpha = 0.1\n",
    "\n",
    "for iteration in range(20):\n",
    "    pred = weight * input\n",
    "    error = (pred - goal_pred) ** 2\n",
    "    derivative = input * (pred - goal_pred)\n",
    "    weight = weight - (derivative * alpha)\n",
    "    print(\"Error:\" + str(error) + \" Prediction:\" + str(pred) + \" Weight:\" + str(weight))"
   ]
  },
  {
   "cell_type": "code",
   "execution_count": null,
   "metadata": {},
   "outputs": [],
   "source": []
  }
 ],
 "metadata": {
  "kernelspec": {
   "display_name": "Python 3",
   "language": "python",
   "name": "python3"
  },
  "language_info": {
   "codemirror_mode": {
    "name": "ipython",
    "version": 3
   },
   "file_extension": ".py",
   "mimetype": "text/x-python",
   "name": "python",
   "nbconvert_exporter": "python",
   "pygments_lexer": "ipython3",
   "version": "3.6.7"
  }
 },
 "nbformat": 4,
 "nbformat_minor": 2
}
