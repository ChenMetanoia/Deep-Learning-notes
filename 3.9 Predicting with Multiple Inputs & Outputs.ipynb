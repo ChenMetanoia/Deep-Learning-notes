{
 "cells": [
  {
   "cell_type": "code",
   "execution_count": 4,
   "metadata": {},
   "outputs": [
    {
     "name": "stdout",
     "output_type": "stream",
     "text": [
      "[0.555, 0.98, 0.965]\n"
     ]
    }
   ],
   "source": [
    "def neural_network(intput, weights):\n",
    "    \n",
    "    pred = vect_mat_mul(input, weights)\n",
    "    \n",
    "    return pred\n",
    "\n",
    "\n",
    "def vect_mat_mul(vect, matrix):\n",
    "    assert(len(vect) == len(matrix)), \"Vect length must be same with matrix length!!!\"\n",
    "    output = [0] * len(matrix)\n",
    "    \n",
    "    for i in range(len(vect)):\n",
    "        output[i] = round(w_sum(vect, matrix[i]), 3)\n",
    "    return output\n",
    "\n",
    "\n",
    "def w_sum(a,b):\n",
    "    assert(len(a) == len(b)), \"The length of two inputs must be same!!!\"\n",
    "    output = 0\n",
    "    for i in range(len(a)):\n",
    "        output += (a[i] * b[i])\n",
    "    return output\n",
    "    \n",
    "    \n",
    "weights = [[0.1, 0.1, -0.3],\n",
    "           [0.1, 0.2, 0.0],\n",
    "           [0.0, 1.3, 0.1]]\n",
    "toes = [8.5, 9.5, 9.9, 9.0]\n",
    "wlrec = [0.65, 0.8, 0.8, 0.9]\n",
    "nfans = [1.2, 1.3, 0.5, 1.0]\n",
    "\n",
    "input = [toes[0], wlrec[0], nfans[0]]\n",
    "\n",
    "pred = neural_network(input, weights)\n",
    "print(pred)\n",
    "\n"
   ]
  },
  {
   "cell_type": "code",
   "execution_count": 2,
   "metadata": {},
   "outputs": [
    {
     "name": "stdout",
     "output_type": "stream",
     "text": [
      "120\n"
     ]
    }
   ],
   "source": [
    "from functools import reduce\n",
    "\n",
    "print(reduce((lambda x, y: x*y), [1,2,3,4,5]))"
   ]
  },
  {
   "cell_type": "code",
   "execution_count": 10,
   "metadata": {},
   "outputs": [
    {
     "name": "stdout",
     "output_type": "stream",
     "text": [
      "<function <lambda> at 0x1071070d0>\n"
     ]
    }
   ],
   "source": [
    "x = (lambda x, y: x*y)\n",
    "print(x)"
   ]
  },
  {
   "cell_type": "code",
   "execution_count": null,
   "metadata": {},
   "outputs": [],
   "source": [
    "mapper  \n",
    "<1, 3> \n",
    "<1, 4>\n",
    "<1, 2>\n",
    "\n",
    "<2, 2>\n",
    "<2, 3>\n",
    "<2, 4>\n",
    "\n",
    "<3, 1>\n",
    "<3, 4>\n",
    "<3, 5>\n",
    "\n",
    "\n",
    "Combiner1\n",
    "input = <1, 3> <1, 4> <1, 2>\n",
    "\n",
    "output\n",
    "<1, 9>\n",
    "<1, 9>\n",
    "<1, 10>\n",
    "\n",
    "Combiner2\n",
    "input = <1, 9> <1, 9> <1, 10>\n",
    "output = <1, 28>\n",
    "\n",
    "Reducer\n",
    "input = <1, 3> <1, 4> <1, 2>\n",
    "\n",
    "output\n",
    "<1, 9>\n",
    "<1, 9>\n",
    "<1, 10>\n",
    "\n"
   ]
  }
 ],
 "metadata": {
  "kernelspec": {
   "display_name": "Python 3",
   "language": "python",
   "name": "python3"
  },
  "language_info": {
   "codemirror_mode": {
    "name": "ipython",
    "version": 3
   },
   "file_extension": ".py",
   "mimetype": "text/x-python",
   "name": "python",
   "nbconvert_exporter": "python",
   "pygments_lexer": "ipython3",
   "version": "3.6.7"
  }
 },
 "nbformat": 4,
 "nbformat_minor": 2
}
