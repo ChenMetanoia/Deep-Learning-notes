{
 "cells": [
  {
   "cell_type": "markdown",
   "metadata": {},
   "source": [
    "This dataset is the current status at the beginning of each game for the first 4 games in a season\n",
    "* toes = current number of toes\n",
    "* wlrec = current games won (percent)\n",
    "* nfans = fan count (in millions"
   ]
  },
  {
   "cell_type": "code",
   "execution_count": 14,
   "metadata": {},
   "outputs": [
    {
     "name": "stdout",
     "output_type": "stream",
     "text": [
      "0.98\n"
     ]
    }
   ],
   "source": [
    "weights = [0.1, 0.2, 0]\n",
    "toes = [8.5, 9.5, 9.9, 9.0]\n",
    "wlrec = [0.65, 0.8, 0.8, 0.9]\n",
    "nfans = [1.2, 1.3, 0.5, 1.0]\n",
    "\n",
    "def w_sum(a,b):\n",
    "    assert(len(a) == len(b)), \"Weights number must be equal to the input number!!!\"\n",
    "    output = 0\n",
    "    for i in range(len(a)):\n",
    "        output += (a[i] * b[i])\n",
    "    return output\n",
    "\n",
    "def neural_netwrok(input, weights):\n",
    "    pred = w_sum(input, weights)\n",
    "    return pred\n",
    "\n",
    "# input corresponds to every entry\n",
    "# for the first game of the season\n",
    "\n",
    "input = [toes[0], wlrec[0], nfans[0]]\n",
    "\n",
    "pred = neural_network(input, weights)\n",
    "\n",
    "print(round(pred,3))\n",
    "\n"
   ]
  },
  {
   "cell_type": "code",
   "execution_count": 22,
   "metadata": {},
   "outputs": [
    {
     "name": "stdout",
     "output_type": "stream",
     "text": [
      "[2, 8, 9, 16, 10]\n",
      "[3, 6, 6, 8, 7]\n"
     ]
    }
   ],
   "source": [
    "a = [1, 2, 3, 4, 5]\n",
    "b = [2, 4, 3, 4, 2]\n",
    "c = [None] * len(a)\n",
    "def elementwise_multiplication(vec_a, vec_b):\n",
    "    for i in range(len(a)):\n",
    "        c[i] = a[i] * b[i]\n",
    "    print(c)\n",
    "elementwise_multiplication(a, b)\n",
    "\n",
    "def elementwise_addition(vec_a, vec_b):\n",
    "    for i in range(len(a)):\n",
    "        c[i] = a[i] + b[i]\n",
    "    print(c)\n",
    "elementwise_addition(a, b)"
   ]
  },
  {
   "cell_type": "code",
   "execution_count": null,
   "metadata": {},
   "outputs": [],
   "source": []
  }
 ],
 "metadata": {
  "kernelspec": {
   "display_name": "Python 3",
   "language": "python",
   "name": "python3"
  },
  "language_info": {
   "codemirror_mode": {
    "name": "ipython",
    "version": 3
   },
   "file_extension": ".py",
   "mimetype": "text/x-python",
   "name": "python",
   "nbconvert_exporter": "python",
   "pygments_lexer": "ipython3",
   "version": "3.6.7"
  }
 },
 "nbformat": 4,
 "nbformat_minor": 2
}
